{
 "cells": [
  {
   "cell_type": "code",
   "execution_count": 1,
   "id": "f2406a7c-8d60-4904-8130-42dee98ba046",
   "metadata": {},
   "outputs": [],
   "source": [
    "import pandas as pd\n",
    "from sklearn.neighbors import NearestNeighbors\n",
    "from sklearn.preprocessing import LabelEncoder\n",
    "from datetime import datetime"
   ]
  },
  {
   "cell_type": "code",
   "execution_count": 2,
   "id": "41414fe9-2cf2-4634-aaa4-a452afd40cec",
   "metadata": {},
   "outputs": [],
   "source": [
    "customers = pd.read_csv('Customers.csv')\n"
   ]
  },
  {
   "cell_type": "code",
   "execution_count": 3,
   "id": "d2db386f-8cc0-4100-9a51-6da6f34cd1ff",
   "metadata": {},
   "outputs": [],
   "source": [
    "customers['SignupDate'] = pd.to_datetime(customers['SignupDate'])\n"
   ]
  },
  {
   "cell_type": "code",
   "execution_count": 4,
   "id": "f8ccf901-9c92-4473-b4d5-3f1564a97092",
   "metadata": {},
   "outputs": [],
   "source": [
    "customers['SignupYear'] = customers['SignupDate'].dt.year\n",
    "customers['SignupMonth'] = customers['SignupDate'].dt.month\n",
    "customers['SignupDay'] = customers['SignupDate'].dt.day"
   ]
  },
  {
   "cell_type": "code",
   "execution_count": 5,
   "id": "bf16e575-6fb7-4bc9-a08a-3c9659f99b24",
   "metadata": {},
   "outputs": [],
   "source": [
    "le = LabelEncoder()\n",
    "customers['Region'] = le.fit_transform(customers['Region'])"
   ]
  },
  {
   "cell_type": "code",
   "execution_count": 6,
   "id": "de75ef8c-f954-4a3b-a7dd-319c0aa64a0c",
   "metadata": {},
   "outputs": [],
   "source": [
    "features = ['SignupYear', 'SignupMonth', 'SignupDay', 'Region']\n",
    "\n"
   ]
  },
  {
   "cell_type": "code",
   "execution_count": 7,
   "id": "91b7ec7b-1cd4-4792-b1a6-9ea226ea300a",
   "metadata": {},
   "outputs": [],
   "source": [
    "nn = NearestNeighbors(n_neighbors=3, metric='cosine')"
   ]
  },
  {
   "cell_type": "code",
   "execution_count": 8,
   "id": "5105a92d-3aa1-496d-a08f-d47ccc36d29c",
   "metadata": {},
   "outputs": [
    {
     "data": {
      "text/html": [
       "<style>#sk-container-id-1 {color: black;background-color: white;}#sk-container-id-1 pre{padding: 0;}#sk-container-id-1 div.sk-toggleable {background-color: white;}#sk-container-id-1 label.sk-toggleable__label {cursor: pointer;display: block;width: 100%;margin-bottom: 0;padding: 0.3em;box-sizing: border-box;text-align: center;}#sk-container-id-1 label.sk-toggleable__label-arrow:before {content: \"▸\";float: left;margin-right: 0.25em;color: #696969;}#sk-container-id-1 label.sk-toggleable__label-arrow:hover:before {color: black;}#sk-container-id-1 div.sk-estimator:hover label.sk-toggleable__label-arrow:before {color: black;}#sk-container-id-1 div.sk-toggleable__content {max-height: 0;max-width: 0;overflow: hidden;text-align: left;background-color: #f0f8ff;}#sk-container-id-1 div.sk-toggleable__content pre {margin: 0.2em;color: black;border-radius: 0.25em;background-color: #f0f8ff;}#sk-container-id-1 input.sk-toggleable__control:checked~div.sk-toggleable__content {max-height: 200px;max-width: 100%;overflow: auto;}#sk-container-id-1 input.sk-toggleable__control:checked~label.sk-toggleable__label-arrow:before {content: \"▾\";}#sk-container-id-1 div.sk-estimator input.sk-toggleable__control:checked~label.sk-toggleable__label {background-color: #d4ebff;}#sk-container-id-1 div.sk-label input.sk-toggleable__control:checked~label.sk-toggleable__label {background-color: #d4ebff;}#sk-container-id-1 input.sk-hidden--visually {border: 0;clip: rect(1px 1px 1px 1px);clip: rect(1px, 1px, 1px, 1px);height: 1px;margin: -1px;overflow: hidden;padding: 0;position: absolute;width: 1px;}#sk-container-id-1 div.sk-estimator {font-family: monospace;background-color: #f0f8ff;border: 1px dotted black;border-radius: 0.25em;box-sizing: border-box;margin-bottom: 0.5em;}#sk-container-id-1 div.sk-estimator:hover {background-color: #d4ebff;}#sk-container-id-1 div.sk-parallel-item::after {content: \"\";width: 100%;border-bottom: 1px solid gray;flex-grow: 1;}#sk-container-id-1 div.sk-label:hover label.sk-toggleable__label {background-color: #d4ebff;}#sk-container-id-1 div.sk-serial::before {content: \"\";position: absolute;border-left: 1px solid gray;box-sizing: border-box;top: 0;bottom: 0;left: 50%;z-index: 0;}#sk-container-id-1 div.sk-serial {display: flex;flex-direction: column;align-items: center;background-color: white;padding-right: 0.2em;padding-left: 0.2em;position: relative;}#sk-container-id-1 div.sk-item {position: relative;z-index: 1;}#sk-container-id-1 div.sk-parallel {display: flex;align-items: stretch;justify-content: center;background-color: white;position: relative;}#sk-container-id-1 div.sk-item::before, #sk-container-id-1 div.sk-parallel-item::before {content: \"\";position: absolute;border-left: 1px solid gray;box-sizing: border-box;top: 0;bottom: 0;left: 50%;z-index: -1;}#sk-container-id-1 div.sk-parallel-item {display: flex;flex-direction: column;z-index: 1;position: relative;background-color: white;}#sk-container-id-1 div.sk-parallel-item:first-child::after {align-self: flex-end;width: 50%;}#sk-container-id-1 div.sk-parallel-item:last-child::after {align-self: flex-start;width: 50%;}#sk-container-id-1 div.sk-parallel-item:only-child::after {width: 0;}#sk-container-id-1 div.sk-dashed-wrapped {border: 1px dashed gray;margin: 0 0.4em 0.5em 0.4em;box-sizing: border-box;padding-bottom: 0.4em;background-color: white;}#sk-container-id-1 div.sk-label label {font-family: monospace;font-weight: bold;display: inline-block;line-height: 1.2em;}#sk-container-id-1 div.sk-label-container {text-align: center;}#sk-container-id-1 div.sk-container {/* jupyter's `normalize.less` sets `[hidden] { display: none; }` but bootstrap.min.css set `[hidden] { display: none !important; }` so we also need the `!important` here to be able to override the default hidden behavior on the sphinx rendered scikit-learn.org. See: https://github.com/scikit-learn/scikit-learn/issues/21755 */display: inline-block !important;position: relative;}#sk-container-id-1 div.sk-text-repr-fallback {display: none;}</style><div id=\"sk-container-id-1\" class=\"sk-top-container\"><div class=\"sk-text-repr-fallback\"><pre>NearestNeighbors(metric=&#x27;cosine&#x27;, n_neighbors=3)</pre><b>In a Jupyter environment, please rerun this cell to show the HTML representation or trust the notebook. <br />On GitHub, the HTML representation is unable to render, please try loading this page with nbviewer.org.</b></div><div class=\"sk-container\" hidden><div class=\"sk-item\"><div class=\"sk-estimator sk-toggleable\"><input class=\"sk-toggleable__control sk-hidden--visually\" id=\"sk-estimator-id-1\" type=\"checkbox\" checked><label for=\"sk-estimator-id-1\" class=\"sk-toggleable__label sk-toggleable__label-arrow\">NearestNeighbors</label><div class=\"sk-toggleable__content\"><pre>NearestNeighbors(metric=&#x27;cosine&#x27;, n_neighbors=3)</pre></div></div></div></div></div>"
      ],
      "text/plain": [
       "NearestNeighbors(metric='cosine', n_neighbors=3)"
      ]
     },
     "execution_count": 8,
     "metadata": {},
     "output_type": "execute_result"
    }
   ],
   "source": [
    "nn.fit(customers[features])"
   ]
  },
  {
   "cell_type": "code",
   "execution_count": 10,
   "id": "1a57eb59-297f-4dde-bd26-ac3861f1828f",
   "metadata": {},
   "outputs": [
    {
     "name": "stdout",
     "output_type": "stream",
     "text": [
      "{0: ('C0001', 1.0), 64: ('C0065', 0.999999877208509), 19: ('C0020', 0.999999633836011)}\n"
     ]
    },
    {
     "name": "stderr",
     "output_type": "stream",
     "text": [
      "C:\\Users\\bilvi\\Downloads\\jupiter\\Lib\\site-packages\\sklearn\\base.py:439: UserWarning: X does not have valid feature names, but NearestNeighbors was fitted with feature names\n",
      "  warnings.warn(\n"
     ]
    }
   ],
   "source": [
    "def get_lookalikes(customer_id):\n",
    "    # Get the customer's features\n",
    "    customer_features = customers.loc[customer_id, features]\n",
    "    \n",
    "    # Get the nearest neighbors\n",
    "    distances, indices = nn.kneighbors(customer_features.values.reshape(1, -1))\n",
    "    \n",
    "    # Now you can use the indices to get the lookalike customers\n",
    "    lookalike_customers = customers.iloc[indices[0].flatten()]\n",
    "\n",
    "    # Create the lookalikes dictionary\n",
    "    lookalikes = {customer_id: (lookalike_customer_id, 1 - distance) for customer_id, lookalike_customer_id, distance in zip(lookalike_customers.index, lookalike_customers['CustomerID'], distances[0])}\n",
    "    return lookalikes # Indented this line to be inside the function\n",
    "\n",
    "# Call the function to get the indices\n",
    "# Assuming you want to find lookalikes for customer with ID 0\n",
    "lookalikes = get_lookalikes(0)  # This line is added\n",
    "\n",
    "# Now you can use the indices to get the lookalike customers\n",
    "#lookalike_customers = customers.iloc[indices[0].flatten()] # This line is not needed anymore\n",
    "\n",
    "#lookalikes = {customer_id: (lookalike_customer_id, 1 - distance) for customer_id, lookalike_customer_id, distance in zip(lookalike_customers.index, lookalike_customers['CustomerID'], distances[0])} # This line is not needed anymore\n",
    "#return lookalikes # This line is removed because it was outside the function\n",
    "\n",
    "# Print the lookalikes# You can print these if you want to see the raw data\n",
    "print(lookalikes)"
   ]
  },
  {
   "cell_type": "code",
   "execution_count": 11,
   "id": "faa7159d-2118-4e38-a765-19c7a43c29eb",
   "metadata": {},
   "outputs": [
    {
     "name": "stderr",
     "output_type": "stream",
     "text": [
      "C:\\Users\\bilvi\\Downloads\\jupiter\\Lib\\site-packages\\sklearn\\base.py:439: UserWarning: X does not have valid feature names, but NearestNeighbors was fitted with feature names\n",
      "  warnings.warn(\n",
      "C:\\Users\\bilvi\\Downloads\\jupiter\\Lib\\site-packages\\sklearn\\base.py:439: UserWarning: X does not have valid feature names, but NearestNeighbors was fitted with feature names\n",
      "  warnings.warn(\n",
      "C:\\Users\\bilvi\\Downloads\\jupiter\\Lib\\site-packages\\sklearn\\base.py:439: UserWarning: X does not have valid feature names, but NearestNeighbors was fitted with feature names\n",
      "  warnings.warn(\n",
      "C:\\Users\\bilvi\\Downloads\\jupiter\\Lib\\site-packages\\sklearn\\base.py:439: UserWarning: X does not have valid feature names, but NearestNeighbors was fitted with feature names\n",
      "  warnings.warn(\n",
      "C:\\Users\\bilvi\\Downloads\\jupiter\\Lib\\site-packages\\sklearn\\base.py:439: UserWarning: X does not have valid feature names, but NearestNeighbors was fitted with feature names\n",
      "  warnings.warn(\n",
      "C:\\Users\\bilvi\\Downloads\\jupiter\\Lib\\site-packages\\sklearn\\base.py:439: UserWarning: X does not have valid feature names, but NearestNeighbors was fitted with feature names\n",
      "  warnings.warn(\n",
      "C:\\Users\\bilvi\\Downloads\\jupiter\\Lib\\site-packages\\sklearn\\base.py:439: UserWarning: X does not have valid feature names, but NearestNeighbors was fitted with feature names\n",
      "  warnings.warn(\n",
      "C:\\Users\\bilvi\\Downloads\\jupiter\\Lib\\site-packages\\sklearn\\base.py:439: UserWarning: X does not have valid feature names, but NearestNeighbors was fitted with feature names\n",
      "  warnings.warn(\n",
      "C:\\Users\\bilvi\\Downloads\\jupiter\\Lib\\site-packages\\sklearn\\base.py:439: UserWarning: X does not have valid feature names, but NearestNeighbors was fitted with feature names\n",
      "  warnings.warn(\n",
      "C:\\Users\\bilvi\\Downloads\\jupiter\\Lib\\site-packages\\sklearn\\base.py:439: UserWarning: X does not have valid feature names, but NearestNeighbors was fitted with feature names\n",
      "  warnings.warn(\n",
      "C:\\Users\\bilvi\\Downloads\\jupiter\\Lib\\site-packages\\sklearn\\base.py:439: UserWarning: X does not have valid feature names, but NearestNeighbors was fitted with feature names\n",
      "  warnings.warn(\n",
      "C:\\Users\\bilvi\\Downloads\\jupiter\\Lib\\site-packages\\sklearn\\base.py:439: UserWarning: X does not have valid feature names, but NearestNeighbors was fitted with feature names\n",
      "  warnings.warn(\n",
      "C:\\Users\\bilvi\\Downloads\\jupiter\\Lib\\site-packages\\sklearn\\base.py:439: UserWarning: X does not have valid feature names, but NearestNeighbors was fitted with feature names\n",
      "  warnings.warn(\n",
      "C:\\Users\\bilvi\\Downloads\\jupiter\\Lib\\site-packages\\sklearn\\base.py:439: UserWarning: X does not have valid feature names, but NearestNeighbors was fitted with feature names\n",
      "  warnings.warn(\n",
      "C:\\Users\\bilvi\\Downloads\\jupiter\\Lib\\site-packages\\sklearn\\base.py:439: UserWarning: X does not have valid feature names, but NearestNeighbors was fitted with feature names\n",
      "  warnings.warn(\n",
      "C:\\Users\\bilvi\\Downloads\\jupiter\\Lib\\site-packages\\sklearn\\base.py:439: UserWarning: X does not have valid feature names, but NearestNeighbors was fitted with feature names\n",
      "  warnings.warn(\n",
      "C:\\Users\\bilvi\\Downloads\\jupiter\\Lib\\site-packages\\sklearn\\base.py:439: UserWarning: X does not have valid feature names, but NearestNeighbors was fitted with feature names\n",
      "  warnings.warn(\n",
      "C:\\Users\\bilvi\\Downloads\\jupiter\\Lib\\site-packages\\sklearn\\base.py:439: UserWarning: X does not have valid feature names, but NearestNeighbors was fitted with feature names\n",
      "  warnings.warn(\n",
      "C:\\Users\\bilvi\\Downloads\\jupiter\\Lib\\site-packages\\sklearn\\base.py:439: UserWarning: X does not have valid feature names, but NearestNeighbors was fitted with feature names\n",
      "  warnings.warn(\n",
      "C:\\Users\\bilvi\\Downloads\\jupiter\\Lib\\site-packages\\sklearn\\base.py:439: UserWarning: X does not have valid feature names, but NearestNeighbors was fitted with feature names\n",
      "  warnings.warn(\n"
     ]
    }
   ],
   "source": [
    "lookalikes = {}\n",
    "for customer_id in customers.index[:20]:\n",
    "    lookalikes[customer_id] = get_lookalikes(customer_id)\n",
    "\n",
    "# Save the lookalikes to a CSV file\n",
    "import csv\n",
    "\n",
    "with open('Lookalike.csv', 'w', newline='') as csvfile:\n",
    "    writer = csv.writer(csvfile)\n",
    "    writer.writerow(['customer_id', 'lookalike_customer_id', 'similarity_score'])\n",
    "    for customer_id, lookalike in lookalikes.items():\n",
    "        for lookalike_customer_id, similarity_score in lookalike.items():\n",
    "            writer.writerow([customer_id, lookalike_customer_id, similarity_score])"
   ]
  },
  {
   "cell_type": "code",
   "execution_count": null,
   "id": "36f1b624-ad2f-41ee-ad3c-bb8f210b7450",
   "metadata": {},
   "outputs": [],
   "source": []
  }
 ],
 "metadata": {
  "kernelspec": {
   "display_name": "Python 3 (ipykernel)",
   "language": "python",
   "name": "python3"
  },
  "language_info": {
   "codemirror_mode": {
    "name": "ipython",
    "version": 3
   },
   "file_extension": ".py",
   "mimetype": "text/x-python",
   "name": "python",
   "nbconvert_exporter": "python",
   "pygments_lexer": "ipython3",
   "version": "3.11.7"
  }
 },
 "nbformat": 4,
 "nbformat_minor": 5
}
